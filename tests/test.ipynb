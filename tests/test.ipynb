{
 "cells": [
  {
   "cell_type": "code",
   "execution_count": 1,
   "metadata": {},
   "outputs": [],
   "source": [
    "import json \n",
    "import os\n",
    "import cv2\n",
    "import numpy as np\n",
    "from pathlib import Path\n"
   ]
  },
  {
   "cell_type": "code",
   "execution_count": 2,
   "metadata": {},
   "outputs": [],
   "source": [
    "json_file = \"annotation_data_can.txt\"\n",
    "image_file = \"ky_hieu_can.png\"\n",
    "output_folder = \"tests_can\""
   ]
  },
  {
   "cell_type": "code",
   "execution_count": 3,
   "metadata": {},
   "outputs": [],
   "source": [
    "if not os.path.exists(output_folder):\n",
    "    os.makedirs(output_folder)\n",
    "    print(f\"dã tạo {output_folder}\")\n",
    "    "
   ]
  },
  {
   "cell_type": "code",
   "execution_count": 4,
   "metadata": {},
   "outputs": [],
   "source": [
    "# # Lấy thư mục gốc project (cách dành cho Jupyter Notebook)\n",
    "# current_dir = Path(os.getcwd())\n",
    "\n",
    "# # Nếu đang ở trong thư mục tests, đi lên 1 cấp để về project root\n",
    "# if current_dir.name == \"tests\":\n",
    "#     project_root = current_dir.parent\n",
    "# else:\n",
    "#     project_root = current_dir\n",
    "\n",
    "# print(f\"Thư mục hiện tại: {current_dir}\")\n",
    "# print(f\"Thư mục gốc project: {project_root}\")\n"
   ]
  },
  {
   "cell_type": "code",
   "execution_count": 5,
   "metadata": {},
   "outputs": [],
   "source": [
    "# doc file txt bang thu vien json\n",
    "with open(json_file, 'r', encoding= 'utf-8') as f:\n",
    "    json_data = json.load(f)\n"
   ]
  },
  {
   "cell_type": "code",
   "execution_count": 6,
   "metadata": {},
   "outputs": [
    {
     "data": {
      "text/plain": [
       "(2560, 2221, 3)"
      ]
     },
     "execution_count": 6,
     "metadata": {},
     "output_type": "execute_result"
    }
   ],
   "source": [
    "image_raw_data = cv2.imread(image_file)\n",
    "\n",
    "image_raw_data.shape"
   ]
  },
  {
   "cell_type": "code",
   "execution_count": 7,
   "metadata": {},
   "outputs": [],
   "source": [
    "# f = open(json_file, 'r', encoding= 'utf-8')\n"
   ]
  },
  {
   "cell_type": "code",
   "execution_count": null,
   "metadata": {},
   "outputs": [],
   "source": [
    "# cat anh va luu anh\n",
    "\n",
    "json_box = json_data['boxes']\n",
    "\"\"\"\n",
    "1 box have form:\n",
    "{'id': '1',\n",
    " 'label': 'can_bac_2',\n",
    " 'x': '167.51',\n",
    " 'y': '84.09',\n",
    " 'width': '254.94',\n",
    " 'height': '114.79',\n",
    " 'confidence': None}\n",
    " \n",
    "\"\"\"\n",
    "\n",
    "# for box in json_box:\n",
    "#     id_box = box['id']\n",
    "#     label\n",
    "# id_box = box['id']\n",
    "# id_box\n",
    "id_box = json_box[0]['id']\n",
    "lab_box = json_box[0]['label']\n",
    "x_box = json_box[0]['x']\n",
    "y_box = json_box[0]['y']\n",
    "w_box = json_box[0]['width']\n",
    "h_box = json_box[0]['height']\n",
    "\n",
    "print('')"
   ]
  },
  {
   "cell_type": "code",
   "execution_count": null,
   "metadata": {},
   "outputs": [],
   "source": []
  }
 ],
 "metadata": {
  "kernelspec": {
   "display_name": "Python 3",
   "language": "python",
   "name": "python3"
  },
  "language_info": {
   "codemirror_mode": {
    "name": "ipython",
    "version": 3
   },
   "file_extension": ".py",
   "mimetype": "text/x-python",
   "name": "python",
   "nbconvert_exporter": "python",
   "pygments_lexer": "ipython3",
   "version": "3.13.2"
  }
 },
 "nbformat": 4,
 "nbformat_minor": 2
}

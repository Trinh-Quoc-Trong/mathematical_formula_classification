{
 "cells": [
  {
   "cell_type": "code",
   "execution_count": 2,
   "metadata": {},
   "outputs": [],
   "source": [
    "import json \n",
    "import os\n",
    "import cv2\n",
    "import numpy as np\n",
    "from pathlib import Path\n"
   ]
  },
  {
   "cell_type": "code",
   "execution_count": 5,
   "metadata": {},
   "outputs": [],
   "source": [
    "json_file = \"annotation_data_can.txt\"\n",
    "image_file = \"ky_hieu_can.png\"\n",
    "output_folder = \"tests_can\""
   ]
  },
  {
   "cell_type": "code",
   "execution_count": 6,
   "metadata": {},
   "outputs": [
    {
     "name": "stdout",
     "output_type": "stream",
     "text": [
      "dã tạo tests_can\n"
     ]
    }
   ],
   "source": [
    "if not os.path.exists(output_folder):\n",
    "    os.makedirs(output_folder)\n",
    "    print(f\"dã tạo {output_folder}\")\n",
    "    "
   ]
  },
  {
   "cell_type": "code",
   "execution_count": 14,
   "metadata": {},
   "outputs": [
    {
     "name": "stdout",
     "output_type": "stream",
     "text": [
      "Thư mục hiện tại: d:\\code\\projects\\mathematical_formula_classification\\tests\n",
      "Thư mục gốc project: d:\\code\\projects\\mathematical_formula_classification\n"
     ]
    }
   ],
   "source": [
    "# Lấy thư mục gốc project (cách dành cho Jupyter Notebook)\n",
    "current_dir = Path(os.getcwd())\n",
    "\n",
    "# Nếu đang ở trong thư mục tests, đi lên 1 cấp để về project root\n",
    "if current_dir.name == \"tests\":\n",
    "    project_root = current_dir.parent\n",
    "else:\n",
    "    project_root = current_dir\n",
    "\n",
    "print(f\"Thư mục hiện tại: {current_dir}\")\n",
    "print(f\"Thư mục gốc project: {project_root}\")\n"
   ]
  },
  {
   "cell_type": "code",
   "execution_count": 8,
   "metadata": {},
   "outputs": [
    {
     "name": "stdout",
     "output_type": "stream",
     "text": [
      "<_io.TextIOWrapper name='annotation_data_can.txt' mode='r' encoding='utf-8'>\n"
     ]
    }
   ],
   "source": [
    "# doc file txt bang thu vien json\n",
    "with open(json_file, 'r', encoding= 'utf-8') as f:\n",
    "    print(f)"
   ]
  },
  {
   "cell_type": "code",
   "execution_count": null,
   "metadata": {},
   "outputs": [],
   "source": []
  }
 ],
 "metadata": {
  "kernelspec": {
   "display_name": "Python 3",
   "language": "python",
   "name": "python3"
  },
  "language_info": {
   "codemirror_mode": {
    "name": "ipython",
    "version": 3
   },
   "file_extension": ".py",
   "mimetype": "text/x-python",
   "name": "python",
   "nbconvert_exporter": "python",
   "pygments_lexer": "ipython3",
   "version": "3.13.2"
  }
 },
 "nbformat": 4,
 "nbformat_minor": 2
}
